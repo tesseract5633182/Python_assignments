{
 "cells": [
  {
   "cell_type": "markdown",
   "id": "371bd7a5",
   "metadata": {},
   "source": [
    "Question Bank : https://drive.google.com/file/d/1PqUCfZpHTm-4t11i4FJ9lm8F8kAAsJYc/view"
   ]
  },
  {
   "cell_type": "markdown",
   "id": "ac222747",
   "metadata": {},
   "source": [
    "<b>Q.1 What is the result of the code, and why?\n",
    "&gt;&gt;&gt; def func(a, b=6, c=8):\n",
    "print(a, b, c)\n",
    "&gt;&gt;&gt; func(1, 2)"
   ]
  },
  {
   "cell_type": "code",
   "execution_count": 1,
   "id": "27016f2e",
   "metadata": {},
   "outputs": [
    {
     "name": "stdout",
     "output_type": "stream",
     "text": [
      "1 2 8\n"
     ]
    }
   ],
   "source": [
    "def func(a, b=6, c=8):\n",
    "    print(a, b, c)\n",
    "func(1,2)"
   ]
  },
  {
   "cell_type": "markdown",
   "id": "201acdc8",
   "metadata": {},
   "source": [
    "Ans : Output will be 1 2 8. This is because while calling the function we have give value of a as 1, b as 2 and c has a default value of 8"
   ]
  },
  {
   "cell_type": "markdown",
   "id": "83d41a84",
   "metadata": {},
   "source": [
    "<b>Q.2 What is the result of this code, and why?\n",
    "&gt;&gt;&gt; def func(a, b, c=5):\n",
    "print(a, b, c)\n",
    "&gt;&gt;&gt; func(1, c=3, b=2)"
   ]
  },
  {
   "cell_type": "code",
   "execution_count": 2,
   "id": "c7ebe88a",
   "metadata": {},
   "outputs": [
    {
     "name": "stdout",
     "output_type": "stream",
     "text": [
      "1 2 3\n"
     ]
    }
   ],
   "source": [
    "\n",
    "def func(a, b, c=5):\n",
    "    print(a, b, c)\n",
    "func(1, c=3, b=2)"
   ]
  },
  {
   "cell_type": "markdown",
   "id": "f96c14f4",
   "metadata": {},
   "source": [
    "Ans : Output will be 1 2 3. This is because while calling the function we have give value of a as 1, b as 2 and c as 3"
   ]
  },
  {
   "cell_type": "markdown",
   "id": "0eb21d87",
   "metadata": {},
   "source": [
    "<b>Q.3 How about this code: what is its result, and why?\n",
    "&gt;&gt;&gt; def func(a, *pargs):\n",
    "print(a, pargs)\n",
    "&gt;&gt;&gt; func(1, 2, 3)"
   ]
  },
  {
   "cell_type": "code",
   "execution_count": 3,
   "id": "32598682",
   "metadata": {},
   "outputs": [
    {
     "name": "stdout",
     "output_type": "stream",
     "text": [
      "1 (2, 3)\n"
     ]
    }
   ],
   "source": [
    "def func(a, *pargs):\n",
    "    print(a, pargs)\n",
    "func(1, 2, 3)"
   ]
  },
  {
   "cell_type": "markdown",
   "id": "3c963879",
   "metadata": {},
   "source": [
    "Ans : Output is 1 and tuple (2,3). This is because we while calling function we have set value of a as 1, and since the other argument is an arg, we can send multiple value in this case 2 and 3, on printing the args return a tuple"
   ]
  },
  {
   "cell_type": "markdown",
   "id": "2e9b1b8a",
   "metadata": {},
   "source": [
    "<b>Q.4 What does this code print, and why?\n",
    "&gt;&gt;&gt; def func(a, **kargs):\n",
    "print(a, kargs)\n",
    "&gt;&gt;&gt; func(a=1, c=3, b=2)"
   ]
  },
  {
   "cell_type": "code",
   "execution_count": 4,
   "id": "1e14b3e4",
   "metadata": {},
   "outputs": [
    {
     "name": "stdout",
     "output_type": "stream",
     "text": [
      "1 {'c': 3, 'b': 2}\n"
     ]
    }
   ],
   "source": [
    "def func(a, **kargs):\n",
    "    print(a, kargs)\n",
    "func(a=1, c=3, b=2)"
   ]
  },
  {
   "cell_type": "markdown",
   "id": "239fb977",
   "metadata": {},
   "source": [
    "Ans :  Output will be 1 and a dictionary, since we have set value of a as 1 and the other argument is a kwargs, that is we have to pass the variable name and a value, on printing kwargs return a dictionary of key value pairs"
   ]
  },
  {
   "cell_type": "markdown",
   "id": "86405da5",
   "metadata": {},
   "source": [
    "<b>Q.5 What gets printed by this, and explain?\n",
    "&gt;&gt;&gt; def func(a, b, c=8, d=5): print(a, b, c, d)\n",
    "&gt;&gt;&gt; func(1, *(5, 6))"
   ]
  },
  {
   "cell_type": "code",
   "execution_count": 5,
   "id": "94f3ca2a",
   "metadata": {},
   "outputs": [
    {
     "name": "stdout",
     "output_type": "stream",
     "text": [
      "1 5 6 5\n"
     ]
    }
   ],
   "source": [
    "\n",
    "def func(a, b, c=8, d=5): \n",
    "    print(a, b, c, d)\n",
    "func(1, *(5, 6))"
   ]
  },
  {
   "cell_type": "markdown",
   "id": "cb7444f2",
   "metadata": {},
   "source": [
    "Ans - Output will be 1 5 6 5, this is beacuse we have set value of a as 1, and since we are using *(5,6) it unzips and sets valye of b and c as 5 and 6 respectively, at last the value of d is printed"
   ]
  },
  {
   "cell_type": "markdown",
   "id": "235d8061",
   "metadata": {},
   "source": [
    "<b>Q.6 what is the result of this, and explain?\n",
    "&gt;&gt;&gt; def func(a, b, c): a = 2; b[0] = &#39;x&#39;; c[&#39;a&#39;] = &#39;y&#39;\n",
    "&gt;&gt;&gt; l=1; m=[1]; n={&#39;a&#39;:0}\n",
    "&gt;&gt;&gt; func(l, m, n)\n",
    "\n",
    "&gt;&gt;&gt; l, m, n"
   ]
  },
  {
   "cell_type": "code",
   "execution_count": 13,
   "id": "bcdd08fb",
   "metadata": {},
   "outputs": [
    {
     "data": {
      "text/plain": [
       "(1, ['x'], {'a': 'y'})"
      ]
     },
     "execution_count": 13,
     "metadata": {},
     "output_type": "execute_result"
    }
   ],
   "source": [
    "def func(a, b, c): \n",
    "    a = 2\n",
    "    b[0] = 'x' \n",
    "    c['a']='y'\n",
    "\n",
    "l=1; m=[2]; n={'a':0}\n",
    "\n",
    "func(l, m, n)\n",
    "\n",
    "l, m, n"
   ]
  },
  {
   "cell_type": "markdown",
   "id": "2c2cd21b",
   "metadata": {},
   "source": [
    "Ans : Output will be (1, ['x'], {'a': 'y'}). This is because we have set value of l, we pass a list m with index 2 but inside the function we are setting the 0 index as 'x' hence 'x' is printed, we pass a dictionary n which inside the functions updates the value of 'a' to y hence we get {'a': 'y'}"
   ]
  },
  {
   "cell_type": "code",
   "execution_count": 23,
   "id": "35425adb",
   "metadata": {},
   "outputs": [],
   "source": [
    "m=[5521]\n",
    "m[0]='x'"
   ]
  },
  {
   "cell_type": "code",
   "execution_count": 24,
   "id": "7cb2ea81",
   "metadata": {},
   "outputs": [
    {
     "data": {
      "text/plain": [
       "['x']"
      ]
     },
     "execution_count": 24,
     "metadata": {},
     "output_type": "execute_result"
    }
   ],
   "source": [
    "m"
   ]
  },
  {
   "cell_type": "code",
   "execution_count": 25,
   "id": "78789f38",
   "metadata": {},
   "outputs": [
    {
     "data": {
      "text/plain": [
       "{'a': 'y'}"
      ]
     },
     "execution_count": 25,
     "metadata": {},
     "output_type": "execute_result"
    }
   ],
   "source": [
    "f = {'a':0}\n",
    "f['a']='y'\n",
    "f"
   ]
  },
  {
   "cell_type": "code",
   "execution_count": null,
   "id": "72186c14",
   "metadata": {},
   "outputs": [],
   "source": []
  }
 ],
 "metadata": {
  "kernelspec": {
   "display_name": "Python 3 (ipykernel)",
   "language": "python",
   "name": "python3"
  },
  "language_info": {
   "codemirror_mode": {
    "name": "ipython",
    "version": 3
   },
   "file_extension": ".py",
   "mimetype": "text/x-python",
   "name": "python",
   "nbconvert_exporter": "python",
   "pygments_lexer": "ipython3",
   "version": "3.9.7"
  }
 },
 "nbformat": 4,
 "nbformat_minor": 5
}
