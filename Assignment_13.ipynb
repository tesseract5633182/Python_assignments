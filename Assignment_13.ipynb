{
 "cells": [
  {
   "cell_type": "markdown",
   "metadata": {},
   "source": [
    "<h3>Assignment 13 Question link - https://drive.google.com/file/d/1V6TCzn-Gq1lw25m9cPOIRJx4dDE7LBZV/view"
   ]
  },
  {
   "cell_type": "markdown",
   "metadata": {},
   "source": []
  },
  {
   "cell_type": "markdown",
   "metadata": {},
   "source": [
    "<h3>Q.1 What advantages do Excel spreadsheets have over CSV spreadsheets?"
   ]
  },
  {
   "cell_type": "markdown",
   "metadata": {},
   "source": [
    "Ans :- Excel file can store multiple sheets in a single file, excel files can be used to manipulate rows and columns, we can save and use formulas in Excel spreadsheets"
   ]
  },
  {
   "cell_type": "markdown",
   "metadata": {},
   "source": [
    "<h3>Q.2 What do you pass to csv.reader() and csv.writer() to create reader and writer objects?"
   ]
  },
  {
   "cell_type": "markdown",
   "metadata": {},
   "source": [
    "Ans :- We can pass file object to csv.reader() and csv.writer() to create reader and writer objects"
   ]
  },
  {
   "cell_type": "markdown",
   "metadata": {},
   "source": [
    "<h3>Q.3 What modes do File objects for reader and writer objects need to be opened in?"
   ]
  },
  {
   "cell_type": "markdown",
   "metadata": {},
   "source": [
    "Ans :-\n",
    "'r'\tOpen a file for reading.\n",
    "'w'\tOpen a file for writing. Creates a new file if it does not exist or truncates the file if it exists.\n",
    "'x'\tOpen a file for exclusive creation. If the file already exists, the operation fails."
   ]
  },
  {
   "cell_type": "markdown",
   "metadata": {},
   "source": [
    "<h3>Q.4 What method takes a list argument and writes it to a CSV file?"
   ]
  },
  {
   "cell_type": "markdown",
   "metadata": {},
   "source": [
    "Ans :- we can use csv.writerows(list) method"
   ]
  },
  {
   "cell_type": "code",
   "execution_count": 2,
   "metadata": {},
   "outputs": [],
   "source": [
    "import csv\n",
    "row = [\n",
    "    ['One','hello','jello','1234','games']\n",
    "]\n",
    "with open('sample.csv','w') as file:\n",
    "    wr = csv.writer(file, dialect='excel')\n",
    "    wr.writerows(row)"
   ]
  },
  {
   "cell_type": "markdown",
   "metadata": {},
   "source": [
    "<h3>Q.5 What do the keyword arguments delimiter and line terminator do?"
   ]
  },
  {
   "cell_type": "markdown",
   "metadata": {},
   "source": [
    "Ans :- we can use delimiter argument to specify with what character we want to seperate the rows and terminator can specify with what character the row ends"
   ]
  },
  {
   "cell_type": "markdown",
   "metadata": {},
   "source": [
    "<h3>Q.6 What function takes a string of JSON data and returns a Python data structure?"
   ]
  },
  {
   "cell_type": "markdown",
   "metadata": {},
   "source": [
    "Ans :- json.dumps()"
   ]
  },
  {
   "cell_type": "code",
   "execution_count": 3,
   "metadata": {
    "scrolled": true
   },
   "outputs": [
    {
     "name": "stdout",
     "output_type": "stream",
     "text": [
      "{\n",
      "    \"age\": 45,\n",
      "    \"cars\": [\n",
      "        {\n",
      "            \"model\": \"Audi A1\",\n",
      "            \"mpg\": 15.1\n",
      "        },\n",
      "        {\n",
      "            \"model\": \"Zeep Compass\",\n",
      "            \"mpg\": 18.1\n",
      "        }\n",
      "    ],\n",
      "    \"children\": [\n",
      "        \"Alice\",\n",
      "        \"Bob\"\n",
      "    ],\n",
      "    \"married\": true,\n",
      "    \"name\": \"Ken\",\n",
      "    \"pets\": [\n",
      "        \"Dog\"\n",
      "    ]\n",
      "}\n"
     ]
    }
   ],
   "source": [
    "import json\n",
    "\n",
    "x = {\n",
    "  \"name\": \"Ken\",\n",
    "  \"age\": 45,\n",
    "  \"married\": True,\n",
    "  \"children\": (\"Alice\",\"Bob\"),\n",
    "  \"pets\": ['Dog'],\n",
    "  \"cars\": [\n",
    "    {\"model\": \"Audi A1\", \"mpg\": 15.1},\n",
    "    {\"model\": \"Zeep Compass\", \"mpg\": 18.1}\n",
    "  ]\n",
    "}\n",
    "# sorting result in asscending order by keys:\n",
    "sorted_string = json.dumps(x, indent=4, sort_keys=True)\n",
    "print(sorted_string)"
   ]
  },
  {
   "cell_type": "markdown",
   "metadata": {},
   "source": [
    "<h3>Q.7 What function takes a Python data structure and returns a string of JSON data?"
   ]
  },
  {
   "cell_type": "code",
   "execution_count": null,
   "metadata": {},
   "outputs": [],
   "source": [
    "Ans :- json.loads() or json.load()"
   ]
  },
  {
   "cell_type": "code",
   "execution_count": null,
   "metadata": {},
   "outputs": [],
   "source": []
  },
  {
   "cell_type": "code",
   "execution_count": null,
   "metadata": {},
   "outputs": [],
   "source": []
  },
  {
   "cell_type": "code",
   "execution_count": null,
   "metadata": {},
   "outputs": [],
   "source": []
  }
 ],
 "metadata": {
  "kernelspec": {
   "display_name": "Python 3",
   "language": "python",
   "name": "python3"
  },
  "language_info": {
   "codemirror_mode": {
    "name": "ipython",
    "version": 3
   },
   "file_extension": ".py",
   "mimetype": "text/x-python",
   "name": "python",
   "nbconvert_exporter": "python",
   "pygments_lexer": "ipython3",
   "version": "3.7.6"
  }
 },
 "nbformat": 4,
 "nbformat_minor": 4
}
