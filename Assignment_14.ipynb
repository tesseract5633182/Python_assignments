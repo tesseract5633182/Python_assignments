{
 "cells": [
  {
   "cell_type": "markdown",
   "metadata": {},
   "source": [
    "Question bank - https://drive.google.com/file/d/12LKGc367_TZkauqpPF-V1LPAmVRQbWri/view"
   ]
  },
  {
   "cell_type": "markdown",
   "metadata": {},
   "source": [
    "<h3>Q.1 What does RGBA stand for?"
   ]
  },
  {
   "cell_type": "markdown",
   "metadata": {},
   "source": [
    "Ans :- Red-Green-Blue-Alpha"
   ]
  },
  {
   "cell_type": "markdown",
   "metadata": {},
   "source": [
    "<h3>Q.2 From the Pillow module, how do you get the RGBA value of any images?"
   ]
  },
  {
   "cell_type": "code",
   "execution_count": 26,
   "metadata": {},
   "outputs": [],
   "source": [
    "from PIL import Image\n",
    "img = Image.open(r'C:\\Users\\SOURAV\\Desktop\\Django image\\alphatauri.jpg', 'r')\n",
    "if img.mode == 'RGBA':\n",
    "    red, green, blue, alpha = img.split()\n",
    "    print(alpha)"
   ]
  },
  {
   "cell_type": "markdown",
   "metadata": {},
   "source": [
    "<h3>Q.3 What is a box tuple, and how does it work?"
   ]
  },
  {
   "cell_type": "markdown",
   "metadata": {},
   "source": [
    "Ans :- Box tuple is a tuple of four integer coordinates that represent a rectangular region in an image. The four integers are, in order, as follows:\n",
    "Left The x-coordinate of the leftmost edge of the box.\n",
    "Top The y-coordinate of the top edge of the box.\n",
    "Right The x-coordinate of one pixel to the right of the rightmost edge of the box. This integer must be greater than the left integer.\n",
    "Bottom The y-coordinate of one pixel lower than the bottom edge of the box. This integer must be greater than the top integer."
   ]
  },
  {
   "cell_type": "markdown",
   "metadata": {},
   "source": [
    "<h3>Q.4 Use your image and load in notebook then, How can you find out the width and height of an\n",
    "Image object?"
   ]
  },
  {
   "cell_type": "code",
   "execution_count": 2,
   "metadata": {},
   "outputs": [
    {
     "name": "stdout",
     "output_type": "stream",
     "text": [
      "356\n",
      "189\n"
     ]
    }
   ],
   "source": [
    "from PIL import Image\n",
    "catIm = Image.open('Capture.png')\n",
    "width, height = catIm.size\n",
    "print(width)\n",
    "print(height)"
   ]
  },
  {
   "cell_type": "markdown",
   "metadata": {},
   "source": [
    "<h3>Q.5 What method would you call to get Image object for a 100×100 image, excluding the lower-left\n",
    "quarter of it?"
   ]
  },
  {
   "cell_type": "markdown",
   "metadata": {},
   "source": [
    "Ans : - \n",
    "catIm = Image.open('test.png')\n",
    "croppedIm = catIm.crop((0, 100, 0, 100))"
   ]
  },
  {
   "cell_type": "markdown",
   "metadata": {},
   "source": [
    "<h3>Q.6 After making changes to an Image object, how could you save it as an image file?"
   ]
  },
  {
   "cell_type": "code",
   "execution_count": null,
   "metadata": {},
   "outputs": [],
   "source": [
    "from PIL import Image\n",
    "catIm = Image.open('zophie.png')\n",
    "croppedIm = catIm.crop((0, 100, 0, 100))\n",
    "croppedIm.save('zophie.jpg')"
   ]
  },
  {
   "cell_type": "markdown",
   "metadata": {},
   "source": [
    "<h3>Q.7 What module contains Pillow’s shape-drawing code?"
   ]
  },
  {
   "cell_type": "markdown",
   "metadata": {},
   "source": [
    "Ans : ImageDraw module"
   ]
  },
  {
   "cell_type": "markdown",
   "metadata": {},
   "source": [
    "<h3>Q.8 Image objects do not have drawing methods. What kind of object does? How do you get this kind\n",
    "of object?"
   ]
  },
  {
   "cell_type": "markdown",
   "metadata": {},
   "source": [
    "Ans :- draw = ImageDraw.Draw(im)"
   ]
  },
  {
   "cell_type": "code",
   "execution_count": null,
   "metadata": {},
   "outputs": [],
   "source": []
  }
 ],
 "metadata": {
  "kernelspec": {
   "display_name": "Python 3 (ipykernel)",
   "language": "python",
   "name": "python3"
  },
  "language_info": {
   "codemirror_mode": {
    "name": "ipython",
    "version": 3
   },
   "file_extension": ".py",
   "mimetype": "text/x-python",
   "name": "python",
   "nbconvert_exporter": "python",
   "pygments_lexer": "ipython3",
   "version": "3.9.7"
  }
 },
 "nbformat": 4,
 "nbformat_minor": 4
}
