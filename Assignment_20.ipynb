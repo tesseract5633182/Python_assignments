{
 "cells": [
  {
   "cell_type": "markdown",
   "id": "1d640eea",
   "metadata": {},
   "source": [
    "Question Bank : https://drive.google.com/file/d/1TbQubh7kYKN1ppXZrltBAqRaS97O2YO4/view"
   ]
  },
  {
   "cell_type": "markdown",
   "id": "70d33bbb",
   "metadata": {},
   "source": [
    "<b>Q.1 Set the variable test1 to the string &#39;This is a test of the emergency text system,&#39; and save test1 to a\n",
    "file named test.txt."
   ]
  },
  {
   "cell_type": "code",
   "execution_count": 1,
   "id": "377c1a65",
   "metadata": {},
   "outputs": [],
   "source": [
    "test1 = 'This is a test of the emergency text system,'\n",
    "with open(\"test.txt\", \"w\") as text_file:\n",
    "    text_file.write(test1)"
   ]
  },
  {
   "cell_type": "markdown",
   "id": "a00af0ca",
   "metadata": {},
   "source": [
    "<b>Q.2 Read the contents of the file test.txt into the variable test2. Is there a difference between test 1\n",
    "and test 2?"
   ]
  },
  {
   "cell_type": "code",
   "execution_count": 2,
   "id": "f95d83a0",
   "metadata": {},
   "outputs": [
    {
     "data": {
      "text/plain": [
       "['This is a test of the emergency text system,']"
      ]
     },
     "execution_count": 2,
     "metadata": {},
     "output_type": "execute_result"
    }
   ],
   "source": [
    "with open(\"test.txt\", \"r\") as myfile:\n",
    "    test2 = myfile.read().splitlines()\n",
    "test2    "
   ]
  },
  {
   "cell_type": "markdown",
   "id": "e914c353",
   "metadata": {},
   "source": [
    "Ans: Yes, test1 holds String values while the test2 object holds list object"
   ]
  },
  {
   "cell_type": "markdown",
   "id": "7c1eafb1",
   "metadata": {},
   "source": [
    "<b>Q.3 Create a CSV file called books.csv by using these lines:"
   ]
  },
  {
   "cell_type": "code",
   "execution_count": 3,
   "id": "3d4039ce",
   "metadata": {},
   "outputs": [],
   "source": [
    "import csv\n",
    "\n",
    "data = [['title','author','year'],\n",
    "['The Weirdstone of Brisingamen','Alan Garner',1960],\n",
    "['Perdido Street Station','China Miéville',2000],\n",
    "['Thud!','Terry Pratchett',2005],\n",
    "['The Spellman Files','Lisa Lutz',2007],\n",
    "['Small Gods','Terry Pratchett',1992]]\n",
    "\n",
    "with open(\"books.csv\", \"w\", encoding='UTF8', newline='') as csvFile:\n",
    "    writer = csv.writer(csvFile)\n",
    "    writer.writerows(data)"
   ]
  },
  {
   "cell_type": "markdown",
   "id": "947d6d3b",
   "metadata": {},
   "source": [
    "<b>Q.4 Use the sqlite3 module to create a SQLite database called books.db, and a table called books with\n",
    "these fields: title (text), author (text), and year (integer)."
   ]
  },
  {
   "cell_type": "code",
   "execution_count": 5,
   "id": "0a58d718",
   "metadata": {},
   "outputs": [
    {
     "data": {
      "text/plain": [
       "<sqlite3.Cursor at 0x1d800fcd810>"
      ]
     },
     "execution_count": 5,
     "metadata": {},
     "output_type": "execute_result"
    }
   ],
   "source": [
    "import sqlite3\n",
    "import sys\n",
    "\n",
    "con = sqlite3.connect('books.db')\n",
    "cur = con.cursor()\n",
    "cur.execute(\"CREATE TABLE if not exists books(title TEXT, author TEXT, year INT)\")"
   ]
  },
  {
   "cell_type": "markdown",
   "id": "c4986b10",
   "metadata": {},
   "source": [
    "<b>Q.5 Read books.csv and insert its data into the book table."
   ]
  },
  {
   "cell_type": "code",
   "execution_count": 20,
   "id": "d80ebb55",
   "metadata": {},
   "outputs": [
    {
     "name": "stdout",
     "output_type": "stream",
     "text": [
      "[('The Weirdstone of Brisingamen', 'Alan Garner', 1960)]\n",
      "[('The Weirdstone of Brisingamen', 'Alan Garner', 1960), ('Perdido Street Station', 'China MiÃ©ville', 2000)]\n",
      "[('The Weirdstone of Brisingamen', 'Alan Garner', 1960), ('Perdido Street Station', 'China MiÃ©ville', 2000), ('Thud!', 'Terry Pratchett', 2005)]\n",
      "[('The Weirdstone of Brisingamen', 'Alan Garner', 1960), ('Perdido Street Station', 'China MiÃ©ville', 2000), ('Thud!', 'Terry Pratchett', 2005), ('The Spellman Files', 'Lisa Lutz', 2007)]\n",
      "[('The Weirdstone of Brisingamen', 'Alan Garner', 1960), ('Perdido Street Station', 'China MiÃ©ville', 2000), ('Thud!', 'Terry Pratchett', 2005), ('The Spellman Files', 'Lisa Lutz', 2007), ('Small Gods', 'Terry Pratchett', 1992)]\n"
     ]
    }
   ],
   "source": [
    "with open(\"books.csv\", \"r\") as myfile:\n",
    "    myfile = myfile.read().splitlines()\n",
    "\n",
    "con = sqlite3.connect('books.db')\n",
    "cur = con.cursor()\n",
    "\n",
    "for i in myfile[1:]:\n",
    "    cur.execute(\"INSERT INTO books VALUES('{}','{}','{}')\".format(i.split(\",\")[0],i.split(\",\")[1],i.split(\",\")[2]))\n",
    "    cur.execute(\"select * from books\")\n",
    "    print(cur.fetchall())"
   ]
  },
  {
   "cell_type": "code",
   "execution_count": null,
   "id": "82cd67f4",
   "metadata": {},
   "outputs": [],
   "source": []
  }
 ],
 "metadata": {
  "kernelspec": {
   "display_name": "Python 3 (ipykernel)",
   "language": "python",
   "name": "python3"
  },
  "language_info": {
   "codemirror_mode": {
    "name": "ipython",
    "version": 3
   },
   "file_extension": ".py",
   "mimetype": "text/x-python",
   "name": "python",
   "nbconvert_exporter": "python",
   "pygments_lexer": "ipython3",
   "version": "3.9.7"
  }
 },
 "nbformat": 4,
 "nbformat_minor": 5
}
