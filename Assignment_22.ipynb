{
 "cells": [
  {
   "cell_type": "markdown",
   "id": "ebe75cdf",
   "metadata": {},
   "source": [
    "Question Bank : https://drive.google.com/file/d/1R70Whwv_l2tq7wIrxE_PZ10_NDvYFDuP/view"
   ]
  },
  {
   "cell_type": "markdown",
   "id": "bc41e4d0",
   "metadata": {},
   "source": [
    "<b>Q.1 What is the result of the code, and explain?\n",
    "\n",
    "&gt;&gt;&gt; X = &#39;iNeuron&#39;\n",
    "&gt;&gt;&gt; def func():\n",
    "print(X)\n",
    "\n",
    "&gt;&gt;&gt; func()"
   ]
  },
  {
   "cell_type": "markdown",
   "id": "e90aa84a",
   "metadata": {},
   "source": [
    "Ans : The output will be iNeuron, we have set the value of variable X as iNeuron, later we have defined a function func which prints the value of X"
   ]
  },
  {
   "cell_type": "markdown",
   "id": "76744632",
   "metadata": {},
   "source": [
    "<b>Q.2 What is the result of the code, and explain?\n",
    "\n",
    "&gt;&gt;&gt; X = &#39;iNeuron&#39;\n",
    "&gt;&gt;&gt; def func():\n",
    "X = &#39;NI!&#39;\n",
    "\n",
    "&gt;&gt;&gt; func()\n",
    "&gt;&gt;&gt; print(X)"
   ]
  },
  {
   "cell_type": "code",
   "execution_count": 2,
   "id": "e957ced3",
   "metadata": {},
   "outputs": [
    {
     "name": "stdout",
     "output_type": "stream",
     "text": [
      "iNeuron\n"
     ]
    }
   ],
   "source": [
    "X = 'iNeuron'\n",
    "def func():\n",
    "    X = 'NI!'\n",
    "func()\n",
    "print(X)"
   ]
  },
  {
   "cell_type": "markdown",
   "id": "ed7427de",
   "metadata": {},
   "source": [
    "Ans : The output will be iNeuron. We have set the value of X as iNeuron. Then we have defined a function func in which we have created a local variable as X as NI!. Then we are calling this function, which will just create a local variable X and store value of NI!. After the we are printing the value of X, since the X variable in the func() method is local it does not impact the X defined at the top"
   ]
  },
  {
   "cell_type": "markdown",
   "id": "3ca04b96",
   "metadata": {},
   "source": [
    "<b>Q.3 What does this code print, and why?\n",
    "\n",
    "&gt;&gt;&gt; X = &#39;iNeuron&#39;\n",
    "&gt;&gt;&gt; def func():\n",
    "X = &#39;NI&#39;\n",
    "print(X)\n",
    "\n",
    "&gt;&gt;&gt; func()\n",
    "&gt;&gt;&gt; print(X)"
   ]
  },
  {
   "cell_type": "code",
   "execution_count": 3,
   "id": "57106713",
   "metadata": {},
   "outputs": [
    {
     "name": "stdout",
     "output_type": "stream",
     "text": [
      "NI!\n",
      "iNeuron\n"
     ]
    }
   ],
   "source": [
    "X = 'iNeuron'\n",
    "def func():\n",
    "    X = 'NI!'\n",
    "    print(X)\n",
    "func()\n",
    "print(X)"
   ]
  },
  {
   "cell_type": "markdown",
   "id": "980c7137",
   "metadata": {},
   "source": [
    "Ans :- Ans : The output will be NI! /n iNeuron. We have set the value of X as iNeuron. Then we have defined a function func in which we have created a local variable as X as NI! and then writing a print statement to print the value of X. Then we are calling this function, which will print value of X as NI!. After the we are printing the value of X, since the X variable in the func() method is local it does not impact the X defined at the top and hence iNeuron is printed"
   ]
  },
  {
   "cell_type": "markdown",
   "id": "d5d7bccf",
   "metadata": {},
   "source": [
    "<b>Q.4 What output does this code produce? Why?\n",
    "\n",
    "&gt;&gt;&gt; X = &#39;iNeuron&#39;\n",
    "&gt;&gt;&gt; def func():\n",
    "global X\n",
    "X = &#39;NI&#39;\n",
    "\n",
    "&gt;&gt;&gt; func()\n",
    "&gt;&gt;&gt; print(X)"
   ]
  },
  {
   "cell_type": "code",
   "execution_count": 4,
   "id": "1c7cbddb",
   "metadata": {},
   "outputs": [
    {
     "name": "stdout",
     "output_type": "stream",
     "text": [
      "NI!\n"
     ]
    }
   ],
   "source": [
    "X = 'iNeuron'\n",
    "def func():\n",
    "    global X\n",
    "    X = 'NI!'\n",
    "func()\n",
    "print(X)"
   ]
  },
  {
   "cell_type": "markdown",
   "id": "8d84d942",
   "metadata": {},
   "source": [
    "Ans :- The output will be NI!. We have set the value of X as iNeuron. Then we have defined a function func in which we have created a gloal variable as X and stored value as NI!. Then we are calling this function, which will set the value of X at the outer scope as NI!. After the we are printing the value of X, since the X variable in the func() method is of global type it will change the value of X as NI!"
   ]
  },
  {
   "cell_type": "markdown",
   "id": "d285fdd6",
   "metadata": {},
   "source": [
    "<b>Q.5 What about this code—what’s the output, and why?\n",
    "\n",
    "&gt;&gt;&gt; X = &#39;iNeuron&#39;\n",
    "&gt;&gt;&gt; def func():\n",
    "X = &#39;NI&#39;\n",
    "def nested():\n",
    "print(X)\n",
    "nested()\n",
    "\n",
    "&gt;&gt;&gt; func()\n",
    "&gt;&gt;&gt; X"
   ]
  },
  {
   "cell_type": "code",
   "execution_count": 10,
   "id": "3ce774c9",
   "metadata": {},
   "outputs": [
    {
     "name": "stdout",
     "output_type": "stream",
     "text": [
      "NI!\n",
      "iNeuron\n"
     ]
    }
   ],
   "source": [
    "X = 'iNeuron'\n",
    "def func():\n",
    "    X = 'NI!'\n",
    "    \n",
    "    def nested():\n",
    "        print(X)    \n",
    "    nested()\n",
    "func()\n",
    "print(X)"
   ]
  },
  {
   "cell_type": "markdown",
   "id": "2fe4bd74",
   "metadata": {},
   "source": [
    "Ans:- The output will be NI! /n iNeuron. We have set the value of X as iNeuron, then we have defined a function func() which has a local variable X as NI!, then we have defined a nested function nested() which prints the value of X. Then we have called the function nested, this will print the value as NI! as there is no local variable X for nested function, so it will check the higher scope which is X = NI! , then we have printed the value of X from the global scope"
   ]
  },
  {
   "cell_type": "markdown",
   "id": "a93bda5c",
   "metadata": {},
   "source": [
    "<b>Q.6 How about this code: what is its output in Python 3, and explain?\n",
    "\n",
    "&gt;&gt;&gt; def func():\n",
    "X = &#39;NI&#39;\n",
    "def nested():\n",
    "nonlocal X\n",
    "X = &#39;Spam&#39;\n",
    "nested()\n",
    "print(X)\n",
    "\n",
    "&gt;&gt;&gt; func()"
   ]
  },
  {
   "cell_type": "code",
   "execution_count": 13,
   "id": "9df2d81e",
   "metadata": {},
   "outputs": [
    {
     "name": "stdout",
     "output_type": "stream",
     "text": [
      "Spam\n",
      "Spam\n"
     ]
    }
   ],
   "source": [
    "X = 'iNeuron'\n",
    "def func():\n",
    "    X = 'NI!'\n",
    "    \n",
    "    def nested():\n",
    "        nonlocal X\n",
    "        X = 'Spam'\n",
    "        print(X)    \n",
    "    nested()\n",
    "    print(X)\n",
    "func()"
   ]
  },
  {
   "cell_type": "markdown",
   "id": "891abec9",
   "metadata": {},
   "source": [
    "Ans : The output will be spam /n spam. We have set the value of X as iNeuron, then we have defined a function func() which has a local variable X as NI!, then we have defined a nested function nested(), where we have declared that variable X is not local, then we have set value of X as Spam and then print value of X. Then we have called the function nested, this will print the value as Spam, then we have printed the value of X which is set to Spam, because of calling the nested() function."
   ]
  },
  {
   "cell_type": "code",
   "execution_count": null,
   "id": "64b185e2",
   "metadata": {},
   "outputs": [],
   "source": []
  }
 ],
 "metadata": {
  "kernelspec": {
   "display_name": "Python 3 (ipykernel)",
   "language": "python",
   "name": "python3"
  },
  "language_info": {
   "codemirror_mode": {
    "name": "ipython",
    "version": 3
   },
   "file_extension": ".py",
   "mimetype": "text/x-python",
   "name": "python",
   "nbconvert_exporter": "python",
   "pygments_lexer": "ipython3",
   "version": "3.9.7"
  }
 },
 "nbformat": 4,
 "nbformat_minor": 5
}
