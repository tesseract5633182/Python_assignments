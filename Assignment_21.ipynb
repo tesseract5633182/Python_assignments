{
 "cells": [
  {
   "cell_type": "markdown",
   "id": "dda35343",
   "metadata": {},
   "source": [
    "Question bank : https://drive.google.com/file/d/1b2jWpoy7ve89SkAgkOYYvwK6Cew0aphY/view"
   ]
  },
  {
   "cell_type": "markdown",
   "id": "aa34804d",
   "metadata": {},
   "source": [
    "<b>Q.1 Add the current date to the text file today.txt as a string."
   ]
  },
  {
   "cell_type": "code",
   "execution_count": 1,
   "id": "dbfa4c63",
   "metadata": {},
   "outputs": [],
   "source": [
    "from datetime import date\n",
    "with open('today.txt','w') as file:\n",
    "    file.write(str(date.today()))"
   ]
  },
  {
   "cell_type": "markdown",
   "id": "d34d9e74",
   "metadata": {},
   "source": [
    "<b>Q.2 Read the text file today.txt into the string today_string"
   ]
  },
  {
   "cell_type": "code",
   "execution_count": 2,
   "id": "0e8618ed",
   "metadata": {},
   "outputs": [
    {
     "name": "stdout",
     "output_type": "stream",
     "text": [
      "2022-01-07\n"
     ]
    }
   ],
   "source": [
    "with open('today.txt','r') as file:\n",
    "    today_string = file.read()\n",
    "print(today_string)    "
   ]
  },
  {
   "cell_type": "markdown",
   "id": "7600f0ab",
   "metadata": {},
   "source": [
    "<b>Q.3 Parse the date from today_string."
   ]
  },
  {
   "cell_type": "code",
   "execution_count": 3,
   "id": "24082c50",
   "metadata": {},
   "outputs": [
    {
     "name": "stdout",
     "output_type": "stream",
     "text": [
      "Year is 2022, month is 01, day is 07\n"
     ]
    }
   ],
   "source": [
    "dates = today_string.split(\"-\")\n",
    "print(\"Year is {}, month is {}, day is {}\".format(dates[0],dates[1],dates[2]))"
   ]
  },
  {
   "cell_type": "markdown",
   "id": "1942280e",
   "metadata": {},
   "source": [
    "<b>Q.4 List the files in your current directory"
   ]
  },
  {
   "cell_type": "code",
   "execution_count": 4,
   "id": "2253f371",
   "metadata": {
    "scrolled": true
   },
   "outputs": [
    {
     "data": {
      "text/plain": [
       "['.ipynb_checkpoints',\n",
       " 'Assignment_1.ipynb',\n",
       " 'Assignment_10.ipynb',\n",
       " 'Assignment_11.ipynb',\n",
       " 'Assignment_12.ipynb',\n",
       " 'Assignment_13.ipynb',\n",
       " 'Assignment_14.ipynb',\n",
       " 'Assignment_15.ipynb',\n",
       " 'Assignment_16.ipynb',\n",
       " 'Assignment_17.ipynb',\n",
       " 'Assignment_18.ipynb',\n",
       " 'Assignment_19.ipynb',\n",
       " 'Assignment_2.ipynb',\n",
       " 'Assignment_20.ipynb',\n",
       " 'Assignment_21.ipynb',\n",
       " 'Assignment_22.ipynb',\n",
       " 'Assignment_3.ipynb',\n",
       " 'Assignment_4.ipynb',\n",
       " 'Assignment_5.ipynb',\n",
       " 'Assignment_6.ipynb',\n",
       " 'Assignment_7.ipynb',\n",
       " 'Assignment_8.ipynb',\n",
       " 'Assignment_9.ipynb',\n",
       " 'books.csv',\n",
       " 'books.db',\n",
       " 'books.db-journal',\n",
       " 'Capture.PNG',\n",
       " 'folder2',\n",
       " 'output.csv',\n",
       " 'sample.csv',\n",
       " 'sample.pdf',\n",
       " 'test.txt',\n",
       " 'today.txt',\n",
       " 'zoo.ipynb',\n",
       " 'zoo.py',\n",
       " 'zoo.py.ipynb',\n",
       " '__pycache__']"
      ]
     },
     "execution_count": 4,
     "metadata": {},
     "output_type": "execute_result"
    }
   ],
   "source": [
    "import os \n",
    "os.listdir()"
   ]
  },
  {
   "cell_type": "markdown",
   "id": "33fbde1f",
   "metadata": {},
   "source": [
    "<b>Q.5 Create a list of all of the files in your parent directory (minimum five files should be available)."
   ]
  },
  {
   "cell_type": "code",
   "execution_count": 5,
   "id": "c7460c7e",
   "metadata": {},
   "outputs": [
    {
     "data": {
      "text/plain": [
       "['.ipynb_checkpoints',\n",
       " 'Hello Untitled.ipynb',\n",
       " 'Machine learning assignment',\n",
       " 'Machine Learning Project',\n",
       " 'Python Advance Assignment',\n",
       " 'Python Basic Assignment',\n",
       " 'untitled.txt']"
      ]
     },
     "execution_count": 5,
     "metadata": {},
     "output_type": "execute_result"
    }
   ],
   "source": [
    "parentDirectory = os.path.dirname(os.getcwd())\n",
    "os.listdir(parentDirectory)"
   ]
  },
  {
   "cell_type": "markdown",
   "id": "87163b6b",
   "metadata": {},
   "source": [
    "<b>Q.6 Use multiprocessing to create three separate processes. Make each one wait a random number of\n",
    "seconds between one and five, print the current time, and then exit."
   ]
  },
  {
   "cell_type": "code",
   "execution_count": 18,
   "id": "98211cdf",
   "metadata": {},
   "outputs": [
    {
     "name": "stdout",
     "output_type": "stream",
     "text": [
      "1641573298.4582593\n",
      "1641573299.4719436\n",
      "1641573300.4750545\n"
     ]
    }
   ],
   "source": [
    "from multiprocessing import Process\n",
    "import time, sys\n",
    "from random import randint\n",
    "\n",
    "def printTime():\n",
    "    time.sleep(randint(1,5))\n",
    "    print(time.time())\n",
    "    sys.stdout.flush()\n",
    "    \n",
    "p1 = Process(target = printTime)\n",
    "p2 = Process(target = printTime)\n",
    "p3 = Process(target = printTime)\n",
    "\n",
    "p1.start()\n",
    "p2.start()\n",
    "p3.start()\n",
    "\n",
    "p1.join()\n",
    "p2.join()\n",
    "p3.join()"
   ]
  },
  {
   "cell_type": "markdown",
   "id": "242777d9",
   "metadata": {},
   "source": [
    "<b>Q.7 Create a date object of your day of birth."
   ]
  },
  {
   "cell_type": "code",
   "execution_count": 7,
   "id": "4436fa4c",
   "metadata": {},
   "outputs": [
    {
     "name": "stdout",
     "output_type": "stream",
     "text": [
      "1995-12-27 00:00:00\n"
     ]
    }
   ],
   "source": [
    "import datetime\n",
    "\n",
    "date = datetime.datetime(1995,12,27)\n",
    "print(date) "
   ]
  },
  {
   "cell_type": "markdown",
   "id": "5bfa7789",
   "metadata": {},
   "source": [
    "<b>Q.8 What day of the week was your day of birth?"
   ]
  },
  {
   "cell_type": "code",
   "execution_count": 8,
   "id": "e5376f2f",
   "metadata": {},
   "outputs": [
    {
     "name": "stdout",
     "output_type": "stream",
     "text": [
      "Wednesday\n"
     ]
    }
   ],
   "source": [
    "import datetime, calendar\n",
    "\n",
    "def findDay(date):\n",
    "    born = datetime.datetime.strptime(date, '%d %m %Y').weekday()\n",
    "    return (calendar.day_name[born])\n",
    " \n",
    "date = '27 12 1995'\n",
    "print(findDay(date))"
   ]
  },
  {
   "cell_type": "markdown",
   "id": "84aef12a",
   "metadata": {},
   "source": [
    "<b>Q.9 When will you be (or when were you) 10,000 days old?"
   ]
  },
  {
   "cell_type": "code",
   "execution_count": 9,
   "id": "7b86cce2",
   "metadata": {},
   "outputs": [],
   "source": [
    "from datetime import datetime, timedelta\n",
    "\n",
    "def findDay(year=1995, month =12, day = 27):\n",
    "    \n",
    "    birth_date = datetime(year, month, day)\n",
    "    now = datetime.now()\n",
    "    s = str(now - birth_date)\n",
    "    count = 1\n",
    "    \n",
    "    while(int(s.split(\" \")[0])<10000):\n",
    "        now += timedelta(days=count)\n",
    "        s = str(now - birth_date)\n",
    "        count+=1\n",
    "    while(int(s.split(\" \")[0])>10000):\n",
    "        now -= timedelta(days=count)\n",
    "        s = str(now - birth_date)\n",
    "        count+=1    \n",
    "        \n",
    "    return now"
   ]
  },
  {
   "cell_type": "code",
   "execution_count": 10,
   "id": "8835ec36",
   "metadata": {},
   "outputs": [
    {
     "name": "stdout",
     "output_type": "stream",
     "text": [
      "2023-04-16 22:00:14.746850\n"
     ]
    }
   ],
   "source": [
    "print(findDay(year=1995, month =12, day = 27))"
   ]
  },
  {
   "cell_type": "code",
   "execution_count": null,
   "id": "0ce535c5",
   "metadata": {},
   "outputs": [],
   "source": []
  },
  {
   "cell_type": "code",
   "execution_count": 11,
   "id": "017e6e4f",
   "metadata": {},
   "outputs": [
    {
     "name": "stdout",
     "output_type": "stream",
     "text": [
      "Done\n"
     ]
    }
   ],
   "source": [
    "from multiprocessing import Process\n",
    "import os\n",
    "\n",
    "def f():\n",
    "    return str(datetime.now())\n",
    "\n",
    "if __name__ == '__main__':\n",
    "    p1 = Process(target=f, args=('bob',))\n",
    "    print(\"Done\")\n",
    "    p2 = Process(target=f)\n",
    "    p2 = Process(target=f)"
   ]
  },
  {
   "cell_type": "code",
   "execution_count": 12,
   "id": "9035345b",
   "metadata": {},
   "outputs": [],
   "source": [
    "from multiprocessing import Process\n",
    "import os\n",
    "\n",
    "def info(title):\n",
    "    print(title)\n",
    "    print('module name:', __name__)\n",
    "    print('parent process:', os.getppid())\n",
    "    print('process id:', os.getpid())\n",
    "\n",
    "def f(name):\n",
    "    info('function f')\n",
    "    print('hello', name)\n",
    "\n",
    "if __name__ == '__main__':\n",
    "    #info('main line')\n",
    "    p = Process(target=f, args=('bob',))\n",
    "    p.start()\n",
    "    p.join()\n",
    "    "
   ]
  },
  {
   "cell_type": "code",
   "execution_count": null,
   "id": "2da8cadd",
   "metadata": {},
   "outputs": [],
   "source": []
  },
  {
   "cell_type": "code",
   "execution_count": null,
   "id": "6df4a8c9",
   "metadata": {},
   "outputs": [],
   "source": []
  },
  {
   "cell_type": "code",
   "execution_count": null,
   "id": "9bdf7e52",
   "metadata": {},
   "outputs": [],
   "source": []
  }
 ],
 "metadata": {
  "kernelspec": {
   "display_name": "Python 3 (ipykernel)",
   "language": "python",
   "name": "python3"
  },
  "language_info": {
   "codemirror_mode": {
    "name": "ipython",
    "version": 3
   },
   "file_extension": ".py",
   "mimetype": "text/x-python",
   "name": "python",
   "nbconvert_exporter": "python",
   "pygments_lexer": "ipython3",
   "version": "3.9.7"
  }
 },
 "nbformat": 4,
 "nbformat_minor": 5
}
