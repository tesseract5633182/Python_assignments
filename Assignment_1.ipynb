{
 "cells": [
  {
   "cell_type": "markdown",
   "metadata": {},
   "source": [
    "<h3><b>Q.1 In the below elements which of them are values or an expression? eg:- values can be\n",
    "integer or string and expressions will be mathematical operators.</b></h3>\n",
    "    \n",
    "<p>*</p>\n",
    "<p>&#39;hello&#39;</p>\n",
    "<p>-87.8</p>\n",
    "<p>-</p>\n",
    "<p>/</p>\n",
    "<p>+</p>\n",
    "<p>6</p>"
   ]
  },
  {
   "cell_type": "markdown",
   "metadata": {},
   "source": [
    "<b style = \"color: blue\">Ans :-  Values are = 'hello', -87.8, 6 and expressions are *, -, /, + "
   ]
  },
  {
   "cell_type": "markdown",
   "metadata": {},
   "source": [
    "<h3>Q.2 What is the difference between string and variable?</h3>"
   ]
  },
  {
   "cell_type": "markdown",
   "metadata": {},
   "source": [
    "<b style = \"color: blue\">Ans :- String is a data type and variable stores information of any data type"
   ]
  },
  {
   "cell_type": "markdown",
   "metadata": {},
   "source": [
    "<h3>Q.3 Describe three different data types. </h3>"
   ]
  },
  {
   "cell_type": "markdown",
   "metadata": {},
   "source": [
    "<b style = \"color: blue\">Ans :- Three data types are String, float and list. The string datatype can stores text information. The float datatype can store decimal values, and the list datatype can store sequences"
   ]
  },
  {
   "cell_type": "markdown",
   "metadata": {},
   "source": [
    "<h3>Q.4 What is an expression made up of? What do all expressions do?</h3>"
   ]
  },
  {
   "cell_type": "markdown",
   "metadata": {},
   "source": [
    "<b style = \"color: blue\">Ans :-An expression is a combination of values, variables, operators, and calls to functions"
   ]
  },
  {
   "cell_type": "markdown",
   "metadata": {},
   "source": [
    "<h3>Q.5 This assignment statements, like spam = 10. What is the difference between an\n",
    "expression and a statement?"
   ]
  },
  {
   "cell_type": "markdown",
   "metadata": {},
   "source": [
    "<b style = \"color: blue\">Ans :- The combination of the variable, operator and value is an expression i.e spam = 10 is an expression. The assignment of spam variable to 10 is a statement i.e we are assigning a value of 10 to the variable spam is a statement"
   ]
  },
  {
   "cell_type": "markdown",
   "metadata": {},
   "source": [
    "<h3>Q.6 After running the following code, what does the variable bacon contain?</h3>\n",
    "<p>bacon = 22</p>\n",
    "<p>bacon + 1</p>"
   ]
  },
  {
   "cell_type": "markdown",
   "metadata": {},
   "source": [
    "<b style = \"color: blue\">Ans :- The value of bacon is 22"
   ]
  },
  {
   "cell_type": "markdown",
   "metadata": {},
   "source": [
    "<h3>Q.7 What should the values of the following two terms be?</h3>\n",
    "<p>&#39;spam&#39; + &#39;spamspam&#39;</p>\n",
    "<p>&#39;spam&#39; * 3</p>"
   ]
  },
  {
   "cell_type": "markdown",
   "metadata": {},
   "source": [
    "<b style = \"color: blue\">Ans :- The values of the following two terms will be same which is equal to 'spamspamspam'"
   ]
  },
  {
   "cell_type": "markdown",
   "metadata": {},
   "source": [
    "<h3>Q.8 Why is eggs a valid variable name while 100 is invalid?</h3>"
   ]
  },
  {
   "cell_type": "markdown",
   "metadata": {},
   "source": [
    "<b style = \"color: blue\">Ans :- The variable 100 starts with an integer hence it is invalid, while the eggs starts with an alphabet hence it is valid"
   ]
  },
  {
   "cell_type": "markdown",
   "metadata": {},
   "source": [
    "<h3>Q.9 What three functions can be used to get the integer, floating-point number, or string\n",
    "version of a value?</h3>"
   ]
  },
  {
   "cell_type": "markdown",
   "metadata": {},
   "source": [
    "<b style = \"color: blue\">Ans :- we can use int(), float() and str() methods to get the integer, floation-point number or string version respectively of a value"
   ]
  },
  {
   "cell_type": "markdown",
   "metadata": {},
   "source": [
    "<h3>Q.10 Why does this expression cause an error? How can you fix it?</h3>\n",
    "<p>&#39;I have eaten &#39; + 99 + &#39; burritos.&#39;"
   ]
  },
  {
   "cell_type": "markdown",
   "metadata": {},
   "source": [
    "<b style = \"color: blue\">Ans :- This expression is causing error because we are trying to sum string with an integer which is not allowed in python, to fix this issue we can convert 99 to string using str() method [str(99)]"
   ]
  },
  {
   "cell_type": "code",
   "execution_count": null,
   "metadata": {},
   "outputs": [],
   "source": []
  },
  {
   "cell_type": "code",
   "execution_count": null,
   "metadata": {},
   "outputs": [],
   "source": []
  }
 ],
 "metadata": {
  "kernelspec": {
   "display_name": "Python 3",
   "language": "python",
   "name": "python3"
  },
  "language_info": {
   "codemirror_mode": {
    "name": "ipython",
    "version": 3
   },
   "file_extension": ".py",
   "mimetype": "text/x-python",
   "name": "python",
   "nbconvert_exporter": "python",
   "pygments_lexer": "ipython3",
   "version": "3.7.6"
  }
 },
 "nbformat": 4,
 "nbformat_minor": 4
}
