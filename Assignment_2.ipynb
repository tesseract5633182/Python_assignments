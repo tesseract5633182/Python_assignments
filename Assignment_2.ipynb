{
 "cells": [
  {
   "cell_type": "markdown",
   "metadata": {},
   "source": [
    "<h3>Q.1 What are the two values of the Boolean data type? How do you write them?</h3>"
   ]
  },
  {
   "cell_type": "markdown",
   "metadata": {},
   "source": [
    "Ans : The two values of Boolean data type are \"true\" and \"false\". We can write it as bool_true = true and bool_false = false"
   ]
  },
  {
   "cell_type": "markdown",
   "metadata": {},
   "source": [
    "<h3> Q.2 What are the three different types of Boolean operators?"
   ]
  },
  {
   "cell_type": "markdown",
   "metadata": {},
   "source": [
    "Ans :- The three different type of bool operators are and, or ,not"
   ]
  },
  {
   "cell_type": "markdown",
   "metadata": {},
   "source": [
    "<h3>Q.3 Make a list of each Boolean operator&#39;s truth tables (i.e. every possible combination of Boolean\n",
    "values for the operator and what it evaluate ).</h3>"
   ]
  },
  {
   "cell_type": "markdown",
   "metadata": {},
   "source": [
    "Ans :- \n",
    "<table>\t\t\t\t<!-- create an table object -->\n",
    "     <tr>\t\t\t\t<!-- \"tr\" represents a row -->\n",
    "       <th>Bool_1</th>\t<!-- use \"th\" to indicate header row -->\n",
    "       <th>Operator</th>\n",
    "       <th>Bool_2</th>\n",
    "       <th>Evaluates_to</th>\n",
    "     </tr> \n",
    "    <tr>\t\t\t\t<!-- \"tr\" represents a row -->\n",
    "       <th>True</th>\t<!-- use \"th\" to indicate header row -->\n",
    "       <th>and</th>\n",
    "       <th>True</th>\n",
    "        <th>True</th>\n",
    "     </tr> \n",
    "    <tr>\t\t\t\t<!-- \"tr\" represents a row -->\n",
    "       <th>True</th>\t<!-- use \"th\" to indicate header row -->\n",
    "       <th>and</th>\n",
    "       <th>False</th>\n",
    "       <th>False</th>\n",
    "     </tr> \n",
    "    <tr>\t\t\t\t<!-- \"tr\" represents a row -->\n",
    "       <th>True</th>\t<!-- use \"th\" to indicate header row -->\n",
    "       <th>or</th>\n",
    "       <th>True</th>\n",
    "       <th>True</th>\n",
    "     </tr> \n",
    "    <tr>\t\t\t\t<!-- \"tr\" represents a row -->\n",
    "       <th>True</th>\t<!-- use \"th\" to indicate header row -->\n",
    "       <th>or</th>\n",
    "       <th>False</th>\n",
    "       <th>True</th>\n",
    "     </tr> \n",
    "    <tr>\t\t\t\t<!-- \"tr\" represents a row -->\n",
    "       <th>True</th>\t<!-- use \"th\" to indicate header row -->\n",
    "       <th>and not</th>\n",
    "       <th>False</th>\n",
    "       <th>True</th>\n",
    "     </tr> \n",
    "    <tr>\t\t\t\t<!-- \"tr\" represents a row -->\n",
    "       <th>True</th>\t<!-- use \"th\" to indicate header row -->\n",
    "       <th>and not</th>\n",
    "       <th>True</th>\n",
    "        <th>False</th>\n",
    "     </tr> \n",
    "    <tr>\t\t\t\t<!-- \"tr\" represents a row -->\n",
    "       <th>True</th>\t<!-- use \"th\" to indicate header row -->\n",
    "       <th>or not</th>\n",
    "       <th>False</th>\n",
    "       <th>True</th>\n",
    "     </tr> \n",
    "    <tr>\t\t\t\t<!-- \"tr\" represents a row -->\n",
    "       <th>True</th>\t<!-- use \"th\" to indicate header row -->\n",
    "       <th>or not</th>\n",
    "       <th>True</th>\n",
    "        <th>True</th>\n",
    "     </tr> \n",
    "    <tr>\t\t\t\t<!-- \"tr\" represents a row -->\n",
    "       <th>False</th>\t<!-- use \"th\" to indicate header row -->\n",
    "       <th>and</th>\n",
    "       <th>False</th>\n",
    "        <th>False</th>\n",
    "     </tr> \n",
    "    <tr>\t\t\t\t<!-- \"tr\" represents a row -->\n",
    "       <th>False</th>\t<!-- use \"th\" to indicate header row -->\n",
    "       <th>and</th>\n",
    "       <th>True</th>\n",
    "       <th>False</th>\n",
    "     </tr> \n",
    "    <tr>\t\t\t\t<!-- \"tr\" represents a row -->\n",
    "       <th>False</th>\t<!-- use \"th\" to indicate header row -->\n",
    "       <th>or</th>\n",
    "       <th>False</th>\n",
    "       <th>False</th>\n",
    "     </tr> \n",
    "    <tr>\t\t\t\t<!-- \"tr\" represents a row -->\n",
    "       <th>False</th>\t<!-- use \"th\" to indicate header row -->\n",
    "       <th>or</th>\n",
    "       <th>True</th>\n",
    "       <th>True</th>\n",
    "     </tr> \n",
    "    <tr>\t\t\t\t<!-- \"tr\" represents a row -->\n",
    "       <th>False</th>\t<!-- use \"th\" to indicate header row -->\n",
    "       <th>and not</th>\n",
    "       <th>True</th>\n",
    "       <th>False</th>\n",
    "     </tr> \n",
    "    <tr>\t\t\t\t<!-- \"tr\" represents a row -->\n",
    "       <th>False</th>\t<!-- use \"th\" to indicate header row -->\n",
    "       <th>and not</th>\n",
    "       <th>False</th>\n",
    "        <th>False</th>\n",
    "     </tr> \n",
    "    <tr>\t\t\t\t<!-- \"tr\" represents a row -->\n",
    "       <th>False</th>\t<!-- use \"th\" to indicate header row -->\n",
    "       <th>or not</th>\n",
    "       <th>True</th>\n",
    "       <th>False</th>\n",
    "     </tr> \n",
    "    <tr>\t\t\t\t<!-- \"tr\" represents a row -->\n",
    "       <th>False</th>\t<!-- use \"th\" to indicate header row -->\n",
    "       <th>or not</th>\n",
    "       <th>False</th>\n",
    "        <th>True</th>\n",
    "     </tr> "
   ]
  },
  {
   "cell_type": "markdown",
   "metadata": {},
   "source": [
    "<h3>Q.4 What are the values of the following expressions?</h3>\n",
    "<p>(5 &gt; 4) and (3 == 5)</p>\n",
    "<p>not (5 &gt; 4)</p>\n",
    "<p>(5 &gt; 4) or (3 == 5)</p>\n",
    "<p>not ((5 &gt; 4) or (3 == 5))</p>\n",
    "<p>(True and True) and (True == False)</p>\n",
    "<p>(not False) or (not True)</p>"
   ]
  },
  {
   "cell_type": "markdown",
   "metadata": {},
   "source": [
    "Ans : - \n",
    "<p>1. False</p>\n",
    "<p>2. False</p>\n",
    "<p>3. True</p>\n",
    "<p>4. False</p>\n",
    "<p>5. True</p>"
   ]
  },
  {
   "cell_type": "markdown",
   "metadata": {},
   "source": [
    "<h3>Q.5 What are the six comparison operators?</h3>"
   ]
  },
  {
   "cell_type": "markdown",
   "metadata": {},
   "source": [
    "Ans :- The six comparison operators are as follows : ==, !=, <, <=, >, >="
   ]
  },
  {
   "cell_type": "markdown",
   "metadata": {},
   "source": [
    "<h3>Q.6 How do you tell the difference between the equal to and assignment operators?Describe a\n",
    "condition and when you would use one.</h3>"
   ]
  },
  {
   "cell_type": "markdown",
   "metadata": {},
   "source": [
    "Ans :- We use equal to (==) operater to compare variables, it returns a boolean value. The assignment operator is used to store information in a variable"
   ]
  },
  {
   "cell_type": "markdown",
   "metadata": {},
   "source": [
    "<h3>Q.7 Identify the three blocks in this code:</h3>\n",
    "<p>spam = 0</p>\n",
    "<p>if spam == 10:</p>\n",
    "<p>print(&#39;eggs&#39;)</p>\n",
    "<p>if spam &gt; 5:</p>\n",
    "<p>print(&#39;bacon&#39;)</p>\n",
    "<p>else:</p>\n",
    "<p>print(&#39;ham&#39;)</p>\n",
    "<p>print(&#39;spam&#39;)</p>\n",
    "<p>print(&#39;spam&#39;)</p>\n",
    "    "
   ]
  },
  {
   "cell_type": "markdown",
   "metadata": {},
   "source": [
    "<b>Ans :-"
   ]
  },
  {
   "cell_type": "code",
   "execution_count": 14,
   "metadata": {},
   "outputs": [
    {
     "name": "stdout",
     "output_type": "stream",
     "text": [
      "ham\n",
      "spam\n",
      "spam\n"
     ]
    }
   ],
   "source": [
    "spam = 0\n",
    "\n",
    "if spam == 10:\n",
    "    print('eggs')\n",
    "if spam > 5:\n",
    "    print('bacon')\n",
    "else:\n",
    "    print('ham')\n",
    "    print('spam')\n",
    "    print('spam')"
   ]
  },
  {
   "cell_type": "markdown",
   "metadata": {},
   "source": [
    "<h3>Q.8 Write code that prints Hello if 1 is stored in spam, prints Howdy if 2 is stored in spam, and prints\n",
    "Greetings! if anything else is stored in spam.</h3>"
   ]
  },
  {
   "cell_type": "code",
   "execution_count": 5,
   "metadata": {},
   "outputs": [
    {
     "name": "stdout",
     "output_type": "stream",
     "text": [
      "Choose value of 1 or 2 : s\n"
     ]
    },
    {
     "name": "stderr",
     "output_type": "stream",
     "text": [
      "ERROR:root:Invalid input was provided\n"
     ]
    },
    {
     "name": "stdout",
     "output_type": "stream",
     "text": [
      "Invalid input : Please enter value of 1 or 2\n",
      "Choose value of 1 or 2 : 2\n",
      "Howdy\n"
     ]
    }
   ],
   "source": [
    "import logging as lg\n",
    "\n",
    "try:\n",
    "    spam = 0\n",
    "    while(True):\n",
    "        try:\n",
    "            spam = int(input(\"Choose value of 1 or 2 : \"))\n",
    "            \n",
    "            if(spam not in [1,2]):\n",
    "                continue\n",
    "            else:\n",
    "                lg.info(\"Value of spam is \"+str(spam))\n",
    "                break\n",
    "        except:\n",
    "            print(\"Invalid input : Please enter value of 1 or 2\")\n",
    "            lg.error(\"Invalid input was provided\")\n",
    "            continue\n",
    "\n",
    "    if(spam == 1):\n",
    "        print(\"Hello\")\n",
    "        lg.info(\"Execution completed\")\n",
    "    else:\n",
    "        print(\"Howdy\")\n",
    "        lg.info(\"Execution completed\")\n",
    "except:\n",
    "    lg.error(\"Something went wrong\")\n"
   ]
  },
  {
   "cell_type": "markdown",
   "metadata": {},
   "source": [
    "<h3>Q.9 If your programme is stuck in an endless loop, what keys you’ll press?</h3>\n"
   ]
  },
  {
   "cell_type": "markdown",
   "metadata": {},
   "source": [
    "Ans :- we can press ctrl+c "
   ]
  },
  {
   "cell_type": "markdown",
   "metadata": {},
   "source": [
    "<h3>Q.10 How can you tell the difference between break and continue?</h3>"
   ]
  },
  {
   "cell_type": "markdown",
   "metadata": {},
   "source": [
    "Ans :- We will come out of current block if break is used. We will return to the first line of the current block if we use continue"
   ]
  },
  {
   "cell_type": "markdown",
   "metadata": {},
   "source": [
    "<h3>Q.11 In a for loop, what is the difference between range(10), range(0, 10), and range(0, 10, 1)?"
   ]
  },
  {
   "cell_type": "markdown",
   "metadata": {},
   "source": [
    "Ans :- The range(10) will default start with value of 0 and end at 9. The range(0,10) in this we are saying to start from 0 and end at 9. The range(0,10,1) we are saying to start from 0 and take step size of 1 and end at 9"
   ]
  },
  {
   "cell_type": "markdown",
   "metadata": {},
   "source": [
    "<h3>Q.12 Write a short program that prints the numbers 1 to 10 using a for loop. Then write an equivalent\n",
    "program that prints the numbers 1 to 10 using a while loop."
   ]
  },
  {
   "cell_type": "code",
   "execution_count": 12,
   "metadata": {
    "scrolled": true
   },
   "outputs": [
    {
     "name": "stdout",
     "output_type": "stream",
     "text": [
      "1\n",
      "2\n",
      "3\n",
      "4\n",
      "5\n",
      "6\n",
      "7\n",
      "8\n",
      "9\n",
      "10\n",
      "1\n",
      "2\n",
      "3\n",
      "4\n",
      "5\n",
      "6\n",
      "7\n",
      "8\n",
      "9\n",
      "10\n"
     ]
    }
   ],
   "source": [
    "import logging as lg\n",
    "\n",
    "try:\n",
    "    for i in range(1,11):\n",
    "        print(i)\n",
    "    lg.info(\"for loop executed successfully\")\n",
    "    counter = 1    \n",
    "    while(counter<11):\n",
    "        print(counter)\n",
    "        counter = counter +1 \n",
    "    lg.info(\"while loop executed successfully\")    \n",
    "except:\n",
    "    lg.error(\"Something went wrong\")"
   ]
  },
  {
   "cell_type": "markdown",
   "metadata": {},
   "source": [
    "<h3>Q.13 If you had a function named bacon() inside a module named spam, how would you call it after\n",
    "importing spam?"
   ]
  },
  {
   "cell_type": "markdown",
   "metadata": {},
   "source": [
    "Ans :- we can call bacon as follows : spam.bacon()"
   ]
  },
  {
   "cell_type": "code",
   "execution_count": null,
   "metadata": {},
   "outputs": [],
   "source": []
  },
  {
   "cell_type": "code",
   "execution_count": null,
   "metadata": {},
   "outputs": [],
   "source": []
  },
  {
   "cell_type": "code",
   "execution_count": null,
   "metadata": {},
   "outputs": [],
   "source": []
  }
 ],
 "metadata": {
  "kernelspec": {
   "display_name": "Python 3",
   "language": "python",
   "name": "python3"
  },
  "language_info": {
   "codemirror_mode": {
    "name": "ipython",
    "version": 3
   },
   "file_extension": ".py",
   "mimetype": "text/x-python",
   "name": "python",
   "nbconvert_exporter": "python",
   "pygments_lexer": "ipython3",
   "version": "3.7.6"
  }
 },
 "nbformat": 4,
 "nbformat_minor": 4
}
